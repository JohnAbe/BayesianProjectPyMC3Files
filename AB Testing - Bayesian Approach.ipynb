{
 "cells": [
  {
   "cell_type": "code",
   "execution_count": 1,
   "metadata": {
    "collapsed": true
   },
   "outputs": [],
   "source": [
    "import pandas as pd\n",
    "import numpy as np\n",
    "import pymc as pm\n",
    "import matplotlib.pyplot as plt"
   ]
  },
  {
   "cell_type": "markdown",
   "metadata": {},
   "source": [
    "\n",
    "## AB Testing in Python\n",
    "\n",
    "This is an example that explains AB Testing through an example that models **click through rates** of 2 different interfaces.\n",
    "\n",
    "p_A_true and p_B_true are the **true observed values** of A and B.\n",
    "\n",
    "We are now simulating values from a bernoulli distribution with the values of **p** as A_true and B_true"
   ]
  },
  {
   "cell_type": "code",
   "execution_count": 22,
   "metadata": {},
   "outputs": [
    {
     "name": "stdout",
     "output_type": "stream",
     "text": [
      "Observed frequency for A: 79\n",
      "Observed frequency for B: 57\n"
     ]
    }
   ],
   "source": [
    "# true value of p_A and p_B (unknown)\n",
    "p_A_true = 0.05 #Probability of click through rates in set up A\n",
    "p_B_true = 0.04 #Probability of click through rates in set up B\n",
    "\n",
    "# number of users visiting page A and B\n",
    "N_A = 1500\n",
    "N_B = 700\n",
    "\n",
    "occurrences_A = pm.rbernoulli(p_A_true, N_A)\n",
    "occurrences_B = pm.rbernoulli(p_B_true, N_B)\n",
    "\n",
    "\n",
    "print ('Observed frequency for A:',sum(occurrences_A))\n",
    "print ('Observed frequency for B:',sum(occurrences_B))"
   ]
  },
  {
   "cell_type": "markdown",
   "metadata": {},
   "source": [
    "Now we will define our prior distributions, which is a Uniform distribution. This implies that we don't have any prior imformation. We also capture the difference between the probabilities of A and B"
   ]
  },
  {
   "cell_type": "code",
   "execution_count": 18,
   "metadata": {
    "collapsed": true
   },
   "outputs": [],
   "source": [
    "p_A = pm.Uniform('p_A', lower=0, upper=1)\n",
    "p_B = pm.Uniform('p_B', lower=0, upper=1)\n",
    "\n",
    "@pm.deterministic\n",
    "def delta(p_A=p_A, p_B=p_B):\n",
    "    return p_A - p_B\n",
    "\n",
    "obs_A = pm.Bernoulli('obs_A', p_A, value=occurrences_A, observed=True)\n",
    "obs_B = pm.Bernoulli('obs_B', p_B, value=occurrences_B, observed=True)"
   ]
  },
  {
   "cell_type": "code",
   "execution_count": 8,
   "metadata": {},
   "outputs": [
    {
     "data": {
      "text/plain": [
       "<pymc.distributions.new_dist_class.<locals>.new_class 'obs_A' at 0x0000023462439358>"
      ]
     },
     "execution_count": 8,
     "metadata": {},
     "output_type": "execute_result"
    }
   ],
   "source": [
    "obs_A"
   ]
  },
  {
   "cell_type": "code",
   "execution_count": 21,
   "metadata": {},
   "outputs": [
    {
     "name": "stdout",
     "output_type": "stream",
     "text": [
      " [-----------------100%-----------------] 250000 of 250000 complete in 49.7 sec"
     ]
    }
   ],
   "source": [
    "# defining a Monte Carlo Markov Chain model\n",
    "mcmc = pm.MCMC([p_A, p_B, obs_A, obs_B, delta])\n",
    "\n",
    "# setting the size of the simulations\n",
    "mcmc.sample(250000, 50000) # Sample for 25000 and burn the first 5000\n",
    "\n",
    "# the resulting posterior distributions are stored in trace variables\n",
    "p_A_samples = mcmc.trace('p_A')[:]\n",
    "p_B_samples = mcmc.trace('p_B')[:]\n",
    "delta_samples = mcmc.trace('delta')[:]"
   ]
  },
  {
   "cell_type": "code",
   "execution_count": 20,
   "metadata": {},
   "outputs": [
    {
     "data": {
      "image/png": "[encoded data removed]",
      "text/plain": [
       "<Figure size 432x288 with 3 Axes>"
      ]
     },
     "metadata": {},
     "output_type": "display_data"
    }
   ],
   "source": [
    "plt.subplot(3,1,1)\n",
    "plt.xlim(-0.1, 0.1)\n",
    "plt.hist(p_A_samples, bins=35, histtype='stepfilled', density=True,color='blue', label='Posterior of p_A')\n",
    "plt.vlines(p_A_true, 0, 90, linestyle='--', label='True p_A (unknown)')\n",
    "plt.xlabel('Probability of clicking BUY via A')\n",
    "plt.legend()\n",
    "\n",
    "plt.subplot(3,1,2)\n",
    "plt.xlim(-0.1, 0.1)\n",
    "plt.hist(p_B_samples, bins=35, histtype='stepfilled', density=True,color='green', label='Posterior of p_B')\n",
    "plt.vlines(p_B_true, 0, 90, linestyle='--', label='True p_B (unknown)')\n",
    "plt.xlabel('Probability of clicking BUY via B')\n",
    "plt.legend()\n",
    "\n",
    "plt.subplot(3,1,3)\n",
    "plt.xlim(-0.1, 0.1)\n",
    "plt.hist(delta_samples, bins=35, histtype='stepfilled', density=True,color='red', label='Posterior of delta')\n",
    "plt.vlines(p_A_true - p_B_true, 0, 90, linestyle='--', label='True delta (unknown)')\n",
    "plt.xlabel('p_A - p_B')\n",
    "plt.legend()\n",
    "plt.show()"
   ]
  },
  {
   "cell_type": "code",
   "execution_count": 45,
   "metadata": {},
   "outputs": [
    {
     "name": "stdout",
     "output_type": "stream",
     "text": [
      "Probability that p_A > p_B:\n",
      "0.85854\n"
     ]
    }
   ],
   "source": [
    "print ('Probability that p_A > p_B:')\n",
    "print ((delta_samples > 0).mean())"
   ]
  }
 ],
 "metadata": {
  "kernelspec": {
   "display_name": "Python 3",
   "language": "python",
   "name": "python3"
  },
  "language_info": {
   "codemirror_mode": {
    "name": "ipython",
    "version": 3
   },
   "file_extension": ".py",
   "mimetype": "text/x-python",
   "name": "python",
   "nbconvert_exporter": "python",
   "pygments_lexer": "ipython3",
   "version": "3.6.1"
  }
 },
 "nbformat": 4,
 "nbformat_minor": 2
}
