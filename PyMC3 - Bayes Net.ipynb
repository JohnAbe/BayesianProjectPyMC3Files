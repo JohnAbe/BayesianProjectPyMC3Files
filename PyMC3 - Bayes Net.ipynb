{
 "cells": [
  {
   "cell_type": "markdown",
   "metadata": {},
   "source": [
    "# PyMC3 - Bayes Net"
   ]
  },
  {
   "cell_type": "markdown",
   "metadata": {},
   "source": [
    "![title](hw1_problem.png)"
   ]
  },
  {
   "cell_type": "code",
   "execution_count": null,
   "metadata": {
    "collapsed": true
   },
   "outputs": [],
   "source": [
    "import numpy as np\n",
    "import pymc3 as pm\n",
    "import pandas as pd\n",
    "import matplotlib.pyplot as plt"
   ]
  },
  {
   "cell_type": "code",
   "execution_count": null,
   "metadata": {
    "collapsed": true
   },
   "outputs": [],
   "source": [
    "niter = 100000  # Number of iterations\n",
    "tune = 5000  # Burn-In iterations"
   ]
  },
  {
   "cell_type": "code",
   "execution_count": null,
   "metadata": {
    "collapsed": false
   },
   "outputs": [],
   "source": [
    "model = pm.Model() # Initalize model\n",
    "\n",
    "with model:\n",
    "    tv = [1] # Initial value\n",
    "    \n",
    "    exposure = pm.Bernoulli('exposure', 0.2, shape=1) # Exposure is a bernoulli RV with p = 0.2\n",
    "    \n",
    "    risk = pm.Bernoulli('risk', 0.3, shape=1) # Risk is a bernoulli RV with p = 0.3\n",
    "    \n",
    "    ### If risk is true and exposure is true, probability of disease a = 0.7\n",
    "    ### If risk is true and exposure is false, probabiliy of disease a = 0.6\n",
    "    ### If risk is false and exposure is true, probability of disease a = 0.5\n",
    "    ### IF risk is false and exposure is false, probability of of disease a = 0.1\n",
    "    dis_a_p = pm.Deterministic('dis_a_p', \n",
    "                pm.math.switch(risk, pm.math.switch(exposure, 0.7, 0.6), \n",
    "                pm.math.switch(exposure, 0.5, 0.1)))\n",
    "    dis_a = pm.Bernoulli('dis_a', dis_a_p, shape=1) # Bernoulli RV with p based on dis_a_p\n",
    "    \n",
    "    # Disease b has probability of 0.7 if exposure is true, 0.2 if false\n",
    "    dis_b_p = pm.Deterministic('dis_b_p', pm.math.switch(exposure, 0.7, 0.2))\n",
    "    dis_b = pm.Bernoulli('dis_b', dis_b_p, shape=1)\n",
    "    \n",
    "    ### If dis_a is true and dis_b is true, probability of symptoms = 0.9\n",
    "    ### If dis_a is true and dis_b is false, probabiliy of symptoms a = 0.6\n",
    "    ### If dis_a is false and dis_b is true, probability of disease a = 0.4\n",
    "    ### IF dis_a is false and dis_b is false, probability of of disease a = 0.05\n",
    "    sym_p = pm.Deterministic('sym_p', \n",
    "                pm.math.switch(dis_a, pm.math.switch(dis_b, 0.9, 0.6), \n",
    "                pm.math.switch(dis_b, 0.4, 0.05)))\n",
    "    sym = pm.Bernoulli('sym', sym_p, shape=1)\n",
    "    \n",
    "    ### If dis_a is true and dis_b is true, probability of test a = 0.97\n",
    "    ### If dis_a is true and dis_b is false, probabiliy of test a = 0.85\n",
    "    ### If dis_a is false and dis_b is true, probability of disease a = 0.2\n",
    "    ### IF dis_a is false and dis_b is false, probability of of disease a = 0.08    \n",
    "    test_a_p = pm.Deterministic('test_a_p', \n",
    "                pm.math.switch(dis_a, pm.math.switch(dis_b, 0.97, 0.85), \n",
    "                                      pm.math.switch(dis_b, 0.2, 0.08)))\n",
    "    test_a = pm.Bernoulli('test_a', test_a_p, shape=1)\n",
    "    \n",
    "    # Starts MCMC\n",
    "    trace = pm.sample(niter, step=[pm.BinaryGibbsMetropolis([exposure,risk,dis_b,dis_a,sym,test_a])], tune = tune, random_seed=123)\n",
    "\n",
    "pm.summary(trace)  # Prints MCMC statistics"
   ]
  },
  {
   "cell_type": "code",
   "execution_count": null,
   "metadata": {
    "collapsed": true
   },
   "outputs": [],
   "source": [
    "# Extract info from trace data structure into dictionary\n",
    "results_dict = {\n",
    "              'Exposure': [1 if ii[0] else 0 for ii in trace['exposure'].tolist() ],\n",
    "              'Risk Factors': [1 if ii[0] else 0 for ii in trace['risk'].tolist() ],\n",
    "              'Disease A Prob': [ii[0] for ii in trace['dis_a_p'].tolist()],\n",
    "              'Disease A': [1 if ii[0] else 0 for ii in trace['dis_a'].tolist()],\n",
    "              'Disease B Prob': [ii[0] for ii in trace['dis_b_p'].tolist()],\n",
    "              'Disease B': [1 if ii[0] else 0 for ii in trace['dis_b'].tolist()],\n",
    "              'Sym Prob': [ii[0] for ii in trace['sym_p'].tolist()],\n",
    "              'Sym': [1 if ii[0] else 0 for ii in trace['sym'].tolist()],\n",
    "              'Test A Prob': [ii[0] for ii in trace['test_a_p'].tolist()],\n",
    "              'Test A': [1 if ii[0] else 0 for ii in trace['test_a'].tolist()]\n",
    "              }\n",
    "\n",
    "df = pd.DataFrame(results_dict)"
   ]
  },
  {
   "cell_type": "code",
   "execution_count": null,
   "metadata": {
    "collapsed": true
   },
   "outputs": [],
   "source": [
    "# Boolean mask indicating for which observations Disease B was not present and Symptoms were\n",
    "bool_array = np.where( (np.array(df['Disease B']==0) & np.array(df['Sym']==1)), True, False)"
   ]
  },
  {
   "cell_type": "code",
   "execution_count": null,
   "metadata": {
    "collapsed": false
   },
   "outputs": [],
   "source": [
    "# Subset df based on bool_array\n",
    "num_dis_a = np.sum(df.loc[bool_array,'Disease A'])\n",
    "total = len(df.loc[bool_array,'Disease A'])\n",
    "p_dis_a_given_cond = num_dis_a/total\n",
    "print(\"Probability of disease A | disease B = False, Symptoms = True: \" + str(p_dis_a_given_cond))"
   ]
  },
  {
   "cell_type": "code",
   "execution_count": null,
   "metadata": {
    "collapsed": false
   },
   "outputs": [],
   "source": [
    "# Boolean mask indicating for which observations Test A and Symptoms were True \n",
    "bool_array = np.where( (np.array(df['Test A']==1) & np.array(df['Sym']==1)), True, False)\n",
    "num_exposure = np.sum(df.loc[bool_array,'Exposure'])\n",
    "total = len(df.loc[bool_array,'Exposure']) \n",
    "p_exposure_given_cond = num_exposure/total\n",
    "print(\"Probability of exposure | disease A = True, Symptoms = True: \" + str(p_exposure_given_cond))"
   ]
  },
  {
   "cell_type": "code",
   "execution_count": null,
   "metadata": {
    "collapsed": true
   },
   "outputs": [],
   "source": []
  }
 ],
 "metadata": {
  "kernelspec": {
   "display_name": "Python 3",
   "language": "python",
   "name": "python3"
  },
  "language_info": {
   "codemirror_mode": {
    "name": "ipython",
    "version": 3
   },
   "file_extension": ".py",
   "mimetype": "text/x-python",
   "name": "python",
   "nbconvert_exporter": "python",
   "pygments_lexer": "ipython3",
   "version": "3.6.0"
  }
 },
 "nbformat": 4,
 "nbformat_minor": 2
}
